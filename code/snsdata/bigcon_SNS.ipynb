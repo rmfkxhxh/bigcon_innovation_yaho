{
 "cells": [
  {
   "cell_type": "markdown",
   "metadata": {},
   "source": [
    "## SNS 데이터 카테고리별 일별 빈도수"
   ]
  },
  {
   "cell_type": "code",
   "execution_count": 1,
   "metadata": {},
   "outputs": [],
   "source": [
    "import pandas as pd\n",
    "from konlpy.tag import Okt\n",
    "import re\n",
    "import matplotlib.pyplot as plt\n",
    "import numpy as np"
   ]
  },
  {
   "cell_type": "markdown",
   "metadata": {},
   "source": [
    "news = pd.read_excel('C:/Users/SunA/Desktop/SNS데이터/SNS_3.xlsx', encoding='cp949')"
   ]
  },
  {
   "cell_type": "code",
   "execution_count": null,
   "metadata": {},
   "outputs": [],
   "source": [
    "news1 = pd.read_excel('C:/Users/student/Desktop/SNS데이터/SNS_1.xlsx', encoding='cp949')\n",
    "news2 = pd.read_excel('C:/Users/student/Desktop/SNS데이터/SNS_2.xlsx', encoding='cp949')\n",
    "news3 = pd.read_excel('C:/Users/student/Desktop/SNS데이터/SNS_3.xlsx', encoding='cp949')\n",
    "news4 = pd.read_excel('C:/Users/student/Desktop/SNS데이터/SNS_4.xlsx', encoding='cp949')\n",
    "news5 = pd.read_excel('C:/Users/student/Desktop/SNS데이터/SNS_5.xlsx', encoding='cp949')\n",
    "news6 = pd.read_excel('C:/Users/student/Desktop/SNS데이터/SNS_6.xlsx', encoding='cp949')\n",
    "news7 = pd.read_excel('C:/Users/student/Desktop/SNS데이터/SNS_7.xlsx', encoding='cp949')\n",
    "news8 = pd.read_excel('C:/Users/student/Desktop/SNS데이터/SNS_8.xlsx', encoding='cp949')\n",
    "news_total = pd.concat([news1,news2,news3,news4,news5,news6,news7,news8])"
   ]
  },
  {
   "cell_type": "markdown",
   "metadata": {},
   "source": [
    "news1 = pd.read_excel('C:/Users/SunA/Desktop/SNS데이터/SNS_1.xlsx', encoding='cp949')\n",
    "news2 = pd.read_excel('C:/Users/SunA/Desktop/SNS데이터/SNS_2.xlsx', encoding='cp949')\n",
    "news3 = pd.read_excel('C:/Users/SunA/Desktop/SNS데이터/SNS_3.xlsx', encoding='cp949')\n",
    "news4 = pd.read_excel('C:/Users/SunA/Desktop/SNS데이터/SNS_4.xlsx', encoding='cp949')\n",
    "news5 = pd.read_excel('C:/Users/SunA/Desktop/SNS데이터/SNS_5.xlsx', encoding='cp949')\n",
    "news6 = pd.read_excel('C:/Users/SunA/Desktop/SNS데이터/SNS_6.xlsx', encoding='cp949')\n",
    "news7 = pd.read_excel('C:/Users/SunA/Desktop/SNS데이터/SNS_7.xlsx', encoding='cp949')\n",
    "news8 = pd.read_excel('C:/Users/SunA/Desktop/SNS데이터/SNS_8.xlsx', encoding='cp949')"
   ]
  },
  {
   "cell_type": "code",
   "execution_count": 29,
   "metadata": {},
   "outputs": [],
   "source": [
    "news = [news1,news2,news3,news4,news5,news6,news7,news8]"
   ]
  },
  {
   "cell_type": "code",
   "execution_count": 30,
   "metadata": {},
   "outputs": [
    {
     "name": "stdout",
     "output_type": "stream",
     "text": [
      "1 = 175656\n",
      "2 = 156112\n",
      "3 = 72036\n",
      "4 = 67609\n",
      "5 = 86101\n",
      "6 = 134219\n",
      "7 = 63193\n",
      "8 = 21689\n"
     ]
    }
   ],
   "source": [
    "for i,n in enumerate(news):\n",
    "    print(i+1,'=',len(n))"
   ]
  },
  {
   "cell_type": "code",
   "execution_count": 3,
   "metadata": {},
   "outputs": [],
   "source": [
    "news_total = pd.concat([news1,news2,news3,news4,news5,news6,news7,news8])"
   ]
  },
  {
   "cell_type": "code",
   "execution_count": 4,
   "metadata": {},
   "outputs": [
    {
     "data": {
      "text/plain": [
       "777832"
      ]
     },
     "execution_count": 4,
     "metadata": {},
     "output_type": "execute_result"
    }
   ],
   "source": [
    "len(news_total)"
   ]
  },
  {
   "cell_type": "code",
   "execution_count": 5,
   "metadata": {},
   "outputs": [],
   "source": [
    "#CONTENT에 대해 중복된 항 제거\n",
    "news_total = news_total.drop_duplicates(['CONTENT'], keep='last')"
   ]
  },
  {
   "cell_type": "code",
   "execution_count": 6,
   "metadata": {},
   "outputs": [
    {
     "data": {
      "text/plain": [
       "716267"
      ]
     },
     "execution_count": 6,
     "metadata": {},
     "output_type": "execute_result"
    }
   ],
   "source": [
    "len(news_total)"
   ]
  },
  {
   "cell_type": "code",
   "execution_count": 7,
   "metadata": {},
   "outputs": [],
   "source": [
    "#결측치 제거\n",
    "news_total['TITLE'] = news_total['TITLE'].fillna('제목없음')\n",
    "news_total = news_total.dropna()\n",
    "news_total = news_total.reset_index(drop = 'True')"
   ]
  },
  {
   "cell_type": "code",
   "execution_count": 8,
   "metadata": {},
   "outputs": [
    {
     "data": {
      "text/plain": [
       "716266"
      ]
     },
     "execution_count": 8,
     "metadata": {},
     "output_type": "execute_result"
    }
   ],
   "source": [
    "len(news_total)"
   ]
  },
  {
   "cell_type": "markdown",
   "metadata": {},
   "source": [
    "미세먼지 관련 sns data 빈도수 보자"
   ]
  },
  {
   "cell_type": "code",
   "execution_count": 9,
   "metadata": {},
   "outputs": [],
   "source": [
    "date = [pd.to_datetime(str(news_total['DATE'][i])[:8]) for i in range(len(news_total))]"
   ]
  },
  {
   "cell_type": "code",
   "execution_count": 10,
   "metadata": {},
   "outputs": [
    {
     "data": {
      "text/plain": [
       "365"
      ]
     },
     "execution_count": 10,
     "metadata": {},
     "output_type": "execute_result"
    }
   ],
   "source": [
    "len(set(date))"
   ]
  },
  {
   "cell_type": "code",
   "execution_count": 66,
   "metadata": {},
   "outputs": [
    {
     "data": {
      "text/plain": [
       "'블로그'"
      ]
     },
     "execution_count": 66,
     "metadata": {},
     "output_type": "execute_result"
    }
   ],
   "source": [
    "news_total['SECTION'][170000]"
   ]
  },
  {
   "cell_type": "code",
   "execution_count": null,
   "metadata": {},
   "outputs": [],
   "source": [
    "total_cnt={}\n",
    "for i in set(date):\n",
    "    cnt = 0\n",
    "    for j in range(len(date)):\n",
    "        if i==date[j]:\n",
    "            cnt+=1\n",
    "    total_cnt[i] = cnt\n",
    "    print(i)"
   ]
  },
  {
   "cell_type": "code",
   "execution_count": 12,
   "metadata": {},
   "outputs": [
    {
     "name": "stderr",
     "output_type": "stream",
     "text": [
      "C:\\ProgramData\\Anaconda3\\envs\\finance\\lib\\site-packages\\pandas\\plotting\\_converter.py:129: FutureWarning: Using an implicitly registered datetime converter for a matplotlib plotting method. The converter was registered by pandas on import. Future versions of pandas will require you to explicitly register matplotlib converters.\n",
      "\n",
      "To register the converters:\n",
      "\t>>> from pandas.plotting import register_matplotlib_converters\n",
      "\t>>> register_matplotlib_converters()\n",
      "  warnings.warn(msg, FutureWarning)\n"
     ]
    },
    {
     "data": {
      "image/png": "[encoded data removed]",
      "text/plain": [
       "<Figure size 432x288 with 1 Axes>"
      ]
     },
     "metadata": {
      "needs_background": "light"
     },
     "output_type": "display_data"
    }
   ],
   "source": [
    "plt.bar(total_cnt.keys(),total_cnt.values())\n",
    "plt.show()"
   ]
  },
  {
   "cell_type": "code",
   "execution_count": 49,
   "metadata": {},
   "outputs": [
    {
     "name": "stdout",
     "output_type": "stream",
     "text": [
      "181371\n"
     ]
    }
   ],
   "source": [
    "news_data = news_total[news_total['SECTION']=='뉴스']\n",
    "blog_data = news_total[news_total['SECTION']=='블로그']\n",
    "cafe_data = news_total[news_total['SECTION']=='카페']\n",
    "print(len(news_data))"
   ]
  },
  {
   "cell_type": "code",
   "execution_count": null,
   "metadata": {},
   "outputs": [],
   "source": [
    "news_cnt = {}\n",
    "cnt=0\n",
    "for i in set(date):\n",
    "    cnt = 0\n",
    "    for j in range(len(news_data)):\n",
    "        if i==date[j]:\n",
    "            cnt+=1\n",
    "    news_cnt[i] = cnt\n",
    "    print(i) "
   ]
  },
  {
   "cell_type": "code",
   "execution_count": 48,
   "metadata": {},
   "outputs": [
    {
     "data": {
      "text/plain": [
       "181371"
      ]
     },
     "execution_count": 48,
     "metadata": {},
     "output_type": "execute_result"
    }
   ],
   "source": [
    "sum(news_cnt.values())"
   ]
  },
  {
   "cell_type": "code",
   "execution_count": 41,
   "metadata": {},
   "outputs": [
    {
     "data": {
      "text/plain": [
       "<BarContainer object of 365 artists>"
      ]
     },
     "execution_count": 41,
     "metadata": {},
     "output_type": "execute_result"
    },
    {
     "data": {
      "image/png": "[encoded data removed]",
      "text/plain": [
       "<Figure size 432x288 with 1 Axes>"
      ]
     },
     "metadata": {
      "needs_background": "light"
     },
     "output_type": "display_data"
    }
   ],
   "source": [
    "plt.bar(news_cnt.keys(),news_cnt.values())"
   ]
  },
  {
   "cell_type": "code",
   "execution_count": 43,
   "metadata": {},
   "outputs": [],
   "source": [
    "cnt = 0\n",
    "for i in news_cnt.values():\n",
    "    if i == 0:\n",
    "        cnt+=1"
   ]
  },
  {
   "cell_type": "code",
   "execution_count": null,
   "metadata": {},
   "outputs": [],
   "source": [
    "news_cnt"
   ]
  },
  {
   "cell_type": "code",
   "execution_count": null,
   "metadata": {},
   "outputs": [],
   "source": [
    "blog_cnt = {}\n",
    "cnt=0\n",
    "for i in set(date):\n",
    "    cnt = 0\n",
    "    for j in range(len(blog_data)):\n",
    "        if i==date[j]:\n",
    "            cnt+=1\n",
    "    blog_cnt[i] = cnt\n",
    "    print(i) "
   ]
  },
  {
   "cell_type": "code",
   "execution_count": 29,
   "metadata": {},
   "outputs": [
    {
     "data": {
      "text/plain": [
       "<BarContainer object of 365 artists>"
      ]
     },
     "execution_count": 29,
     "metadata": {},
     "output_type": "execute_result"
    },
    {
     "data": {
      "image/png": "[encoded data removed]",
      "text/plain": [
       "<Figure size 432x288 with 1 Axes>"
      ]
     },
     "metadata": {
      "needs_background": "light"
     },
     "output_type": "display_data"
    }
   ],
   "source": [
    "plt.bar(blog_cnt.keys(),blog_cnt.values())"
   ]
  },
  {
   "cell_type": "code",
   "execution_count": null,
   "metadata": {},
   "outputs": [],
   "source": [
    "cafe_cnt = {}\n",
    "cnt=0\n",
    "for i in set(date):\n",
    "    cnt = 0\n",
    "    for j in range(len(cafe_data)):\n",
    "        if i==date[j]:\n",
    "            cnt+=1\n",
    "    cafe_cnt[i] = cnt\n",
    "    print(i) "
   ]
  },
  {
   "cell_type": "code",
   "execution_count": 39,
   "metadata": {},
   "outputs": [
    {
     "data": {
      "image/png": "[encoded data removed]",
      "text/plain": [
       "<Figure size 432x288 with 1 Axes>"
      ]
     },
     "metadata": {
      "needs_background": "light"
     },
     "output_type": "display_data"
    }
   ],
   "source": [
    "# plt.bar(blog_cnt.keys(),blog_cnt.values(), color = 'b')\n",
    "\n",
    "plt.bar(news_cnt.keys(),news_cnt.values(), color = 'r')\n",
    "# plt.bar(cafe_cnt.keys(),cafe_cnt.values(), color = 'y')\n",
    "plt.show()"
   ]
  },
  {
   "cell_type": "code",
   "execution_count": 7,
   "metadata": {},
   "outputs": [],
   "source": [
    "okt = Okt()"
   ]
  },
  {
   "cell_type": "code",
   "execution_count": 6,
   "metadata": {},
   "outputs": [],
   "source": [
    "# title stemmer\n",
    "news['TITLE'] = [okt.morphs(re.sub(\"[^가-힣]\", \" \", news['TITLE'][i]), stem = True) for i in range(len(news))]"
   ]
  },
  {
   "cell_type": "markdown",
   "metadata": {},
   "source": [
    "# content stemmer\n",
    "news['CONTENT'] = [okt.morphs(re.sub(\"[^가-힣]\", \" \", news['CONTENT'][i])) for i in range(len(news))]"
   ]
  },
  {
   "cell_type": "code",
   "execution_count": 18,
   "metadata": {
    "scrolled": true
   },
   "outputs": [
    {
     "data": {
      "text/plain": [
       "83"
      ]
     },
     "execution_count": 18,
     "metadata": {},
     "output_type": "execute_result"
    }
   ],
   "source": [
    "len(date_cnt)"
   ]
  },
  {
   "cell_type": "code",
   "execution_count": 22,
   "metadata": {
    "scrolled": true
   },
   "outputs": [
    {
     "data": {
      "text/plain": [
       "<BarContainer object of 83 artists>"
      ]
     },
     "execution_count": 22,
     "metadata": {},
     "output_type": "execute_result"
    },
    {
     "data": {
      "image/png": "[encoded data removed]",
      "text/plain": [
       "<Figure size 432x288 with 1 Axes>"
      ]
     },
     "metadata": {
      "needs_background": "light"
     },
     "output_type": "display_data"
    }
   ],
   "source": [
    "plt.bar(date_cnt.keys(),date_cnt.values())"
   ]
  },
  {
   "cell_type": "markdown",
   "metadata": {},
   "source": [
    "######################################################################################"
   ]
  },
  {
   "cell_type": "code",
   "execution_count": 6,
   "metadata": {},
   "outputs": [],
   "source": [
    "f = open('C:/Users/SunA/Desktop/SNS데이터/Kstopwords.txt', 'r', encoding = 'utf-8')\n",
    "stopword = f.readlines()\n",
    "f.close()"
   ]
  },
  {
   "cell_type": "code",
   "execution_count": 7,
   "metadata": {},
   "outputs": [],
   "source": [
    "stopword = [re.sub(\"[^가-힣]\", \" \", i).strip() for i in stopword]"
   ]
  },
  {
   "cell_type": "code",
   "execution_count": 9,
   "metadata": {},
   "outputs": [],
   "source": [
    "newst = []\n",
    "for i in news['TITLE']:\n",
    "    temp = [j for j in i if j not in stopword]\n",
    "    newst.append(temp)"
   ]
  },
  {
   "cell_type": "code",
   "execution_count": 10,
   "metadata": {},
   "outputs": [],
   "source": [
    "newstemp = []\n",
    "for i in news['TITLE']:\n",
    "    temp = [j for j in i if j not in stopword]\n",
    "    newstemp.extend(temp)"
   ]
  },
  {
   "cell_type": "code",
   "execution_count": 11,
   "metadata": {},
   "outputs": [],
   "source": [
    "newstemp = list(set(newstemp))\n",
    "pos = []\n",
    "for i in newstemp:\n",
    "    \n",
    "    pos.extend(okt.pos(i))"
   ]
  },
  {
   "cell_type": "code",
   "execution_count": null,
   "metadata": {},
   "outputs": [],
   "source": [
    "pos_sj = []\n",
    "for i in range(len(pos)):\n",
    "    if pos[i][1] == 'Josa':\n",
    "        print(pos[i])\n",
    "    else:\n",
    "        pos_sj.append(pos[i])"
   ]
  }
 ],
 "metadata": {
  "kernelspec": {
   "display_name": "Python 3",
   "language": "python",
   "name": "python3"
  },
  "language_info": {
   "codemirror_mode": {
    "name": "ipython",
    "version": 3
   },
   "file_extension": ".py",
   "mimetype": "text/x-python",
   "name": "python",
   "nbconvert_exporter": "python",
   "pygments_lexer": "ipython3",
   "version": "3.7.3"
  }
 },
 "nbformat": 4,
 "nbformat_minor": 2
}
