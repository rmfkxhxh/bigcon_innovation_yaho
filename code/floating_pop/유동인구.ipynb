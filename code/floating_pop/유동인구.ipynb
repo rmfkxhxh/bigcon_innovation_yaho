{
 "cells": [
  {
   "cell_type": "code",
   "execution_count": 1,
   "metadata": {},
   "outputs": [],
   "source": [
    "import pandas as pd\n"
   ]
  },
  {
   "cell_type": "code",
   "execution_count": 29,
   "metadata": {},
   "outputs": [],
   "source": [
    "data=pd.read_pickle('s&5a')"
   ]
  },
  {
   "cell_type": "code",
   "execution_count": 32,
   "metadata": {
    "scrolled": false
   },
   "outputs": [],
   "source": [
    "for i in range(15):\n",
    "    data['FLOW_POP_CON_{}'.format(i*5)]=data[data.columns[i+4]]+data[data.columns[i+18]]"
   ]
  },
  {
   "cell_type": "code",
   "execution_count": 33,
   "metadata": {},
   "outputs": [
    {
     "data": {
      "text/plain": [
       "Index(['STD_YM', 'STD_YMD', 'HDONG_CD', 'HDONG_NM', 'MAN_FLOW_POP_CNT_0004',\n",
       "       'MAN_FLOW_POP_CNT_0509', 'MAN_FLOW_POP_CNT_1014',\n",
       "       'MAN_FLOW_POP_CNT_1519', 'MAN_FLOW_POP_CNT_2024',\n",
       "       'MAN_FLOW_POP_CNT_2529', 'MAN_FLOW_POP_CNT_3034',\n",
       "       'MAN_FLOW_POP_CNT_3539', 'MAN_FLOW_POP_CNT_4044',\n",
       "       'MAN_FLOW_POP_CNT_4549', 'MAN_FLOW_POP_CNT_5054',\n",
       "       'MAN_FLOW_POP_CNT_5559', 'MAN_FLOW_POP_CNT_6064',\n",
       "       'MAN_FLOW_POP_CNT_6569', 'MAN_FLOW_POP_CNT_70U',\n",
       "       'WMAN_FLOW_POP_CNT_0004', 'WMAN_FLOW_POP_CNT_0509',\n",
       "       'WMAN_FLOW_POP_CNT_1014', 'WMAN_FLOW_POP_CNT_1519',\n",
       "       'WMAN_FLOW_POP_CNT_2024', 'WMAN_FLOW_POP_CNT_2529',\n",
       "       'WMAN_FLOW_POP_CNT_3034', 'WMAN_FLOW_POP_CNT_3539',\n",
       "       'WMAN_FLOW_POP_CNT_4044', 'WMAN_FLOW_POP_CNT_4549',\n",
       "       'WMAN_FLOW_POP_CNT_5054', 'WMAN_FLOW_POP_CNT_5559',\n",
       "       'WMAN_FLOW_POP_CNT_6064', 'WMAN_FLOW_POP_CNT_6569',\n",
       "       'WMAN_FLOW_POP_CNT_70U', 'FLOW_POP_CON_0', 'FLOW_POP_CON_5',\n",
       "       'FLOW_POP_CON_10', 'FLOW_POP_CON_15', 'FLOW_POP_CON_20',\n",
       "       'FLOW_POP_CON_25', 'FLOW_POP_CON_30', 'FLOW_POP_CON_35',\n",
       "       'FLOW_POP_CON_40', 'FLOW_POP_CON_45', 'FLOW_POP_CON_50',\n",
       "       'FLOW_POP_CON_55', 'FLOW_POP_CON_60', 'FLOW_POP_CON_65',\n",
       "       'FLOW_POP_CON_70'],\n",
       "      dtype='object')"
      ]
     },
     "execution_count": 33,
     "metadata": {},
     "output_type": "execute_result"
    }
   ],
   "source": [
    "data.columns"
   ]
  },
  {
   "cell_type": "code",
   "execution_count": 35,
   "metadata": {},
   "outputs": [],
   "source": [
    "data[[ 'STD_YMD','HDONG_NM','FLOW_POP_CON_0', 'FLOW_POP_CON_5',\n",
    "       'FLOW_POP_CON_10', 'FLOW_POP_CON_15', 'FLOW_POP_CON_20',\n",
    "       'FLOW_POP_CON_25', 'FLOW_POP_CON_30', 'FLOW_POP_CON_35',\n",
    "       'FLOW_POP_CON_40', 'FLOW_POP_CON_45', 'FLOW_POP_CON_50',\n",
    "       'FLOW_POP_CON_55', 'FLOW_POP_CON_60', 'FLOW_POP_CON_65',\n",
    "       'FLOW_POP_CON_70']].to_pickle('age_5.pickle')"
   ]
  },
  {
   "cell_type": "code",
   "execution_count": 31,
   "metadata": {},
   "outputs": [
    {
     "data": {
      "text/plain": [
       "Index(['STD_YM', 'STD_YMD', 'HDONG_CD', 'HDONG_NM', 'MAN_FLOW_POP_CNT_0004',\n",
       "       'MAN_FLOW_POP_CNT_0509', 'MAN_FLOW_POP_CNT_1014',\n",
       "       'MAN_FLOW_POP_CNT_1519', 'MAN_FLOW_POP_CNT_2024',\n",
       "       'MAN_FLOW_POP_CNT_2529', 'MAN_FLOW_POP_CNT_3034',\n",
       "       'MAN_FLOW_POP_CNT_3539', 'MAN_FLOW_POP_CNT_4044',\n",
       "       'MAN_FLOW_POP_CNT_4549', 'MAN_FLOW_POP_CNT_5054',\n",
       "       'MAN_FLOW_POP_CNT_5559', 'MAN_FLOW_POP_CNT_6064',\n",
       "       'MAN_FLOW_POP_CNT_6569', 'MAN_FLOW_POP_CNT_70U',\n",
       "       'WMAN_FLOW_POP_CNT_0004', 'WMAN_FLOW_POP_CNT_0509',\n",
       "       'WMAN_FLOW_POP_CNT_1014', 'WMAN_FLOW_POP_CNT_1519',\n",
       "       'WMAN_FLOW_POP_CNT_2024', 'WMAN_FLOW_POP_CNT_2529',\n",
       "       'WMAN_FLOW_POP_CNT_3034', 'WMAN_FLOW_POP_CNT_3539',\n",
       "       'WMAN_FLOW_POP_CNT_4044', 'WMAN_FLOW_POP_CNT_4549',\n",
       "       'WMAN_FLOW_POP_CNT_5054', 'WMAN_FLOW_POP_CNT_5559',\n",
       "       'WMAN_FLOW_POP_CNT_6064', 'WMAN_FLOW_POP_CNT_6569',\n",
       "       'WMAN_FLOW_POP_CNT_70U'],\n",
       "      dtype='object')"
      ]
     },
     "execution_count": 31,
     "metadata": {},
     "output_type": "execute_result"
    }
   ],
   "source": [
    "data.columns"
   ]
  },
  {
   "cell_type": "code",
   "execution_count": null,
   "metadata": {},
   "outputs": [],
   "source": []
  }
 ],
 "metadata": {
  "kernelspec": {
   "display_name": "Python 3",
   "language": "python",
   "name": "python3"
  },
  "language_info": {
   "codemirror_mode": {
    "name": "ipython",
    "version": 3
   },
   "file_extension": ".py",
   "mimetype": "text/x-python",
   "name": "python",
   "nbconvert_exporter": "python",
   "pygments_lexer": "ipython3",
   "version": "3.7.3"
  }
 },
 "nbformat": 4,
 "nbformat_minor": 2
}
